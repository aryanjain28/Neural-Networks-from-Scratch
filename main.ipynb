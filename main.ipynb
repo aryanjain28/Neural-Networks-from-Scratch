{
 "cells": [
  {
   "cell_type": "markdown",
   "metadata": {},
   "source": [
    "<h2>Chapter - 9</h2>"
   ]
  },
  {
   "cell_type": "markdown",
   "metadata": {},
   "source": [
    "<h4>Derivation of Categorical Cross-Entropy loss</h4>"
   ]
  },
  {
   "cell_type": "markdown",
   "metadata": {},
   "source": [
    "<img src=\"derivationLoss.png\" width=\"70%\">\n",
    "\n",
    "<h5>Where Li denotes sample loss value, i — i-th sample in a set, j — label/output index, y — target\n",
    "values and y-hat — predicted values.</h5>\n",
    "<h5>The derivative of this loss function with respect to its inputs (predicted values at the i-th sample,\n",
    "since we are interested in a gradient with respect to the predicted values) equals the negative\n",
    "ground-truth vector, divided by the vector of the predicted values (which is also the output vector\n",
    "of the softmax function).</h5>"
   ]
  },
  {
   "cell_type": "code",
   "execution_count": 3,
   "metadata": {},
   "outputs": [
    {
     "name": "stdout",
     "output_type": "stream",
     "text": [
      "[[0.33333334 0.33333334 0.33333334]\n",
      " [0.3333332  0.3333332  0.33333364]\n",
      " [0.3333329  0.33333293 0.3333342 ]\n",
      " [0.3333326  0.33333263 0.33333477]\n",
      " [0.33333233 0.3333324  0.33333528]]\n",
      "Avg Loss:  1.0986104\n",
      "Accuracy:  0.34\n"
     ]
    }
   ],
   "source": [
    "# Our Full Code\n",
    "\n",
    "import numpy as np\n",
    "import nnfs\n",
    "from nnfs.datasets import spiral_data\n",
    "\n",
    "nnfs.init()\n",
    "\n",
    "# Dense Layer\n",
    "class Layer_Dense:\n",
    "\n",
    "    # Layer init\n",
    "    def __init__(self, n_inputs, n_neurons):\n",
    "        self.weights = 0.01 * np.random.randn(n_inputs, n_neurons)\n",
    "        self.biases = np.zeros((1, n_neurons))\n",
    "\n",
    "    def forward(self, inputs):\n",
    "        self.output = np.dot(inputs, self.weights) + self.biases\n",
    "\n",
    "# ReLU activation function\n",
    "class Activation_ReLU:\n",
    "\n",
    "    def forward(self, inputs):\n",
    "        self.output = np.maximum(0, inputs)\n",
    "\n",
    "# Softmax Activation Function\n",
    "class Activation_Softmax:\n",
    "\n",
    "    def forward(self, inputs):\n",
    "        expo_values = np.exp(inputs - np.max(inputs, axis=1, keepdims=True))\n",
    "        norm_values = expo_values / np.sum(expo_values, axis=1, keepdims=True)\n",
    "        self.output = norm_values\n",
    "\n",
    "# Common Loss\n",
    "class Loss:\n",
    "\n",
    "    # output => model's prediction\n",
    "    # y => ground truth\n",
    "    def calculate(self, output, y):\n",
    "        # forward method is of specific loss function eg. Cross Entropy\n",
    "        sample_losses = self.forward(output, y)\n",
    "        \n",
    "        data_loss = np.mean(sample_losses)\n",
    "\n",
    "        return data_loss\n",
    "\n",
    "\n",
    "# Cross Entropy Loss:\n",
    "class Loss_Categorical_Cross_Entropy(Loss):\n",
    "    \n",
    "    def forward(self, y_pred, y_true):\n",
    "        \n",
    "        y_pred_clipped = np.clip(y_pred, 1e-7, 1 - 1e-7)\n",
    "\n",
    "        # check if y_true is sparse or one-hot-coded\n",
    "        if len(y_true.shape) == 1:\n",
    "            correct_confidence = y_pred_clipped[range(len(y_pred_clipped)), y_true]\n",
    "        else:\n",
    "            correct_confidence = np.sum(y_pred_clipped * y_true, axis=1)\n",
    "\n",
    "        # Losses\n",
    "        neg_log = -np.log(correct_confidence)\n",
    "        return neg_log\n",
    "\n",
    "\n",
    "X, y = spiral_data(samples=100, classes=3)\n",
    "\n",
    "# Initialization\n",
    "dense1 = Layer_Dense(2, 3)\n",
    "activation1 = Activation_ReLU()\n",
    "\n",
    "dense2 = Layer_Dense(3, 3)\n",
    "activation2 = Activation_Softmax()\n",
    "\n",
    "loss_function = Loss_Categorical_Cross_Entropy()\n",
    "\n",
    "# Forward pass\n",
    "dense1.forward(X)\n",
    "activation1.forward(dense1.output)\n",
    "\n",
    "dense2.forward(activation1.output)\n",
    "activation2.forward(dense2.output)\n",
    "\n",
    "print(activation2.output[:5])\n",
    "\n",
    "loss = loss_function.calculate(activation2.output, y)\n",
    "print(\"Avg Loss: \", loss)\n",
    "\n",
    "\n",
    "# Accuracy\n",
    "# outputs the index from softmax_output\n",
    "predictions = np.argmax(activation2.output, axis=1)\n",
    "\n",
    "if len(y.shape) == 2:\n",
    "    y = np.argmax(y, axis=2)\n",
    "\n",
    "accuracy = np.mean(predictions == y)\n",
    "\n",
    "# True evaluates to 1; False to 0\n",
    "print(\"Accuracy: \", accuracy)"
   ]
  },
  {
   "cell_type": "code",
   "execution_count": 4,
   "metadata": {},
   "outputs": [],
   "source": [
    "# Now we'll update our code for the loss function.\n",
    "# Previously\n",
    "\n",
    "# ... loss and other code.\n",
    "\n",
    "# Cross Entropy Loss:\n",
    "class Loss_Categorical_Cross_Entropy(Loss):\n",
    "\n",
    "    def forward(self, y_pred, y_true):\n",
    "\n",
    "        y_pred_clipped = np.clip(y_pred, 1e-7, 1 - 1e-7)\n",
    "\n",
    "        # check if y_true is sparse or one-hot-coded\n",
    "        if len(y_true.shape) == 1:\n",
    "            correct_confidence = y_pred_clipped[range(\n",
    "                len(y_pred_clipped)), y_true]\n",
    "        else:\n",
    "            correct_confidence = np.sum(y_pred_clipped * y_true, axis=1)\n",
    "\n",
    "        # Losses\n",
    "        neg_log = -np.log(correct_confidence)\n",
    "        return neg_log\n",
    "\n",
    "    # Adding backward pass\n",
    "    def backward(self, dvalues, y_true):\n",
    "        # Number of samples in a batch\n",
    "        samples = len(dvalues)\n",
    "        labels = len(dvalues[0])\n",
    "\n",
    "        # Converting sparse to one-hot-vector\n",
    "        if len(y_true.shape) == 1:\n",
    "            y_true = np.eye(labels)[y_true]\n",
    "\n",
    "        # Calculating gradients\n",
    "        self.dinputs = -y_true / dvalues\n",
    "        # Normalizing\n",
    "        self.dinputs = self.dinputs / samples\n"
   ]
  },
  {
   "cell_type": "markdown",
   "metadata": {},
   "source": [
    "<h4>Derivation of Softmax Activation Function</h4>\n",
    "\n",
    "<img src=\"softmaxFunction.png\" width=\"70%\">\n"
   ]
  },
  {
   "cell_type": "markdown",
   "metadata": {},
   "source": [
    "After derivations\n",
    "\n",
    "<img src=\"softmaxFinal.png\" width=\"70%\">\n"
   ]
  },
  {
   "cell_type": "code",
   "execution_count": null,
   "metadata": {},
   "outputs": [],
   "source": [
    "# Now we can write the code : The interesting part!"
   ]
  },
  {
   "cell_type": "code",
   "execution_count": null,
   "metadata": {},
   "outputs": [],
   "source": []
  },
  {
   "cell_type": "code",
   "execution_count": null,
   "metadata": {},
   "outputs": [],
   "source": []
  },
  {
   "cell_type": "code",
   "execution_count": null,
   "metadata": {},
   "outputs": [],
   "source": []
  },
  {
   "cell_type": "code",
   "execution_count": null,
   "metadata": {},
   "outputs": [],
   "source": []
  },
  {
   "cell_type": "code",
   "execution_count": null,
   "metadata": {},
   "outputs": [],
   "source": []
  },
  {
   "cell_type": "code",
   "execution_count": null,
   "metadata": {},
   "outputs": [],
   "source": []
  }
 ],
 "metadata": {
  "language_info": {
   "name": "python"
  },
  "orig_nbformat": 4
 },
 "nbformat": 4,
 "nbformat_minor": 2
}
