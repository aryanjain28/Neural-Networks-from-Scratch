{
 "cells": [
  {
   "cell_type": "code",
   "execution_count": 29,
   "metadata": {},
   "outputs": [
    {
     "name": "stdout",
     "output_type": "stream",
     "text": [
      "[[0.33333334 0.33333334 0.33333334]\n",
      " [0.3333332  0.3333332  0.33333364]\n",
      " [0.3333329  0.33333293 0.3333342 ]\n",
      " [0.3333326  0.33333263 0.33333477]\n",
      " [0.33333233 0.3333324  0.33333528]]\n",
      "Avg Loss:  1.0986104\n",
      "Accuracy:  0.34\n"
     ]
    }
   ],
   "source": [
    "# Our Full Code\n",
    "\n",
    "import numpy as np\n",
    "import nnfs\n",
    "from nnfs.datasets import spiral_data\n",
    "\n",
    "nnfs.init()\n",
    "\n",
    "# Dense Layer\n",
    "class Layer_Dense:\n",
    "\n",
    "    # Layer init\n",
    "    def __init__(self, n_inputs, n_neurons):\n",
    "        self.weights = 0.01 * np.random.randn(n_inputs, n_neurons)\n",
    "        self.biases = np.zeros((1, n_neurons))\n",
    "\n",
    "    def forward(self, inputs):\n",
    "        self.output = np.dot(inputs, self.weights) + self.biases\n",
    "\n",
    "# ReLU activation function\n",
    "class Activation_ReLU:\n",
    "\n",
    "    def forward(self, inputs):\n",
    "        self.output = np.maximum(0, inputs)\n",
    "\n",
    "# Softmax Activation Function\n",
    "class Activation_Softmax:\n",
    "\n",
    "    def forward(self, inputs):\n",
    "        expo_values = np.exp(inputs - np.max(inputs, axis=1, keepdims=True))\n",
    "        norm_values = expo_values / np.sum(expo_values, axis=1, keepdims=True)\n",
    "        self.output = norm_values\n",
    "\n",
    "# Common Loss\n",
    "class Loss:\n",
    "\n",
    "    # output => model's prediction\n",
    "    # y => ground truth\n",
    "    def calculate(self, output, y):\n",
    "        # forward method is of specific loss function eg. Cross Entropy\n",
    "        sample_losses = self.forward(output, y)\n",
    "        \n",
    "        data_loss = np.mean(sample_losses)\n",
    "\n",
    "        return data_loss\n",
    "\n",
    "\n",
    "# Cross Entropy Loss:\n",
    "class Loss_Categorical_Cross_Entropy(Loss):\n",
    "    \n",
    "    def forward(self, y_pred, y_true):\n",
    "        \n",
    "        y_pred_clipped = np.clip(y_pred, 1e-7, 1 - 1e-7)\n",
    "\n",
    "        # check if y_true is sparse or one-hot-coded\n",
    "        if len(y_true.shape) == 1:\n",
    "            correct_confidence = y_pred_clipped[range(len(y_pred_clipped)), y_true]\n",
    "        else:\n",
    "            correct_confidence = np.sum(y_pred_clipped * y_true, axis=1)\n",
    "\n",
    "        # Losses\n",
    "        neg_log = -np.log(correct_confidence)\n",
    "        return neg_log\n",
    "\n",
    "\n",
    "X, y = spiral_data(samples=100, classes=3)\n",
    "\n",
    "# Initialization\n",
    "dense1 = Layer_Dense(2, 3)\n",
    "activation1 = Activation_ReLU()\n",
    "\n",
    "dense2 = Layer_Dense(3, 3)\n",
    "activation2 = Activation_Softmax()\n",
    "\n",
    "loss_function = Loss_Categorical_Cross_Entropy()\n",
    "\n",
    "# Forward pass\n",
    "dense1.forward(X)\n",
    "activation1.forward(dense1.output)\n",
    "\n",
    "dense2.forward(activation1.output)\n",
    "activation2.forward(dense2.output)\n",
    "\n",
    "print(activation2.output[:5])\n",
    "\n",
    "loss = loss_function.calculate(activation2.output, y)\n",
    "print(\"Avg Loss: \", loss)\n",
    "\n",
    "\n",
    "# Accuracy\n",
    "# outputs the index from softmax_output\n",
    "predictions = np.argmax(activation2.output, axis=1)\n",
    "\n",
    "if len(y.shape) == 2:\n",
    "    y = np.argmax(y, axis=2)\n",
    "\n",
    "accuracy = np.mean(predictions == y)\n",
    "\n",
    "# True evaluates to 1; False to 0\n",
    "print(\"Accuracy: \", accuracy)"
   ]
  },
  {
   "cell_type": "markdown",
   "metadata": {},
   "source": [
    "# Chapter-7 : Derivatives"
   ]
  },
  {
   "cell_type": "code",
   "execution_count": 30,
   "metadata": {},
   "outputs": [],
   "source": [
    "# We saw in Chapter:6 that depending upon 'luck' to increase the accuracy might,\n",
    "# not be an efficient way to move further. Instead we need something smart enough \n",
    "# to train out model. The concepts that we will be using in future contains \n",
    "# partial derivations. \n",
    "\n",
    "# If we observe the Loss Function carefully, biases and weights do not directly,\n",
    "# Imapact the loss function, but the loss function is dependent upon the \n",
    "# model's output value and this output value is dependent on the weights and biases.\n",
    "# So, indirectly we see that loss_function is dependent upon weights and biases.\n"
   ]
  },
  {
   "cell_type": "code",
   "execution_count": 31,
   "metadata": {},
   "outputs": [
    {
     "name": "stdout",
     "output_type": "stream",
     "text": [
      "[0 1 2 3 4]\n",
      "[0 2 4 6 8]\n"
     ]
    },
    {
     "data": {
      "image/png": "[encoded data removed]",
      "text/plain": [
       "<Figure size 432x288 with 1 Axes>"
      ]
     },
     "metadata": {
      "needs_background": "light"
     },
     "output_type": "display_data"
    },
    {
     "name": "stdout",
     "output_type": "stream",
     "text": [
      "Slope of this linear line:  2.0\n"
     ]
    }
   ],
   "source": [
    "# To calculate this \"impact\" we use SLOPE of the linear function.\n",
    "# Slope of a linear function is easy, it is the difference in the\n",
    "# y values, divided by the difference in x values.\n",
    "\n",
    "# Let us understand slope briefly.\n",
    "\n",
    "import matplotlib.pyplot as plt\n",
    "import numpy as np\n",
    "\n",
    "# Slope of linear equation: y=2x\n",
    "def f(x):\n",
    "    return 2*x\n",
    "\n",
    "x = np.array(range(5))\n",
    "y = f(x)\n",
    "\n",
    "print(x)\n",
    "print(y)\n",
    "\n",
    "plt.plot(x, y)\n",
    "plt.show()\n",
    "\n",
    "# Now we have to define the \"impact\" of x has on the overall function,\n",
    "# We can define this by calculating the \"Slope\" of the line, since it is the \"Rise over Run\".\n",
    "\n",
    "print(\"Slope of this linear line: \", (y[1]-y[0]) / (x[1]-x[0]))\n",
    "\n",
    "# We can take any two differnt points in the line and the slope will be the same\n",
    "# since it is a linear equation.\n"
   ]
  },
  {
   "cell_type": "markdown",
   "metadata": {},
   "source": [
    "#### Numerical Derivative"
   ]
  },
  {
   "cell_type": "code",
   "execution_count": 32,
   "metadata": {},
   "outputs": [
    {
     "data": {
      "image/png": "[encoded data removed]",
      "text/plain": [
       "<Figure size 432x288 with 1 Axes>"
      ]
     },
     "metadata": {
      "needs_background": "light"
     },
     "output_type": "display_data"
    },
    {
     "name": "stdout",
     "output_type": "stream",
     "text": [
      "Slope (1): 1\n",
      "Slope (2): 9\n"
     ]
    }
   ],
   "source": [
    "# Calculating slope of a non-linear line is a bit tricky.\n",
    "# Since, any two points on the curve different and gives different slope values.\n",
    "# For example, how can we define slope of the curve: f(x) = 2(x^2)\n",
    "\n",
    "import matplotlib.pyplot as plt\n",
    "import numpy as np\n",
    "\n",
    "# Curve equation\n",
    "\n",
    "\n",
    "def f(x):\n",
    "    return 2*x**2\n",
    "\n",
    "\n",
    "x = np.array(list(range(5)))\n",
    "y = f(x)\n",
    "\n",
    "plt.plot(x, y)\n",
    "plt.show()\n",
    "\n",
    "print(f\"Slope (1): {(y[1]-y[0])-(x[1]-x[0])}\")\n",
    "print(f\"Slope (2): {(y[3]-y[2])-(x[3]-x[2])}\")\n"
   ]
  },
  {
   "cell_type": "markdown",
   "metadata": {},
   "source": [
    "<img src=\"./tangentSlope.png\" height=\"400\">"
   ]
  },
  {
   "cell_type": "code",
   "execution_count": 33,
   "metadata": {},
   "outputs": [
    {
     "name": "stdout",
     "output_type": "stream",
     "text": [
      "Instantaneous Slope:  4.0001999999987845\n"
     ]
    }
   ],
   "source": [
    "# Q: What should we do in this case?\n",
    "# A: Calculus proposes that we measure the slope of the tangent line at x (for a specific input value to the function),\n",
    "#    giving us the instantaneous slope (slope at this point), which is the derivative.\n",
    "#    The tangent line is created by drawing a line between two points that are “infinitely close” on a curve.\n",
    "\n",
    "\n",
    "def f(x):\n",
    "    return 2*x**2\n",
    "\n",
    "\n",
    "delta = 0.0001\n",
    "\n",
    "x1 = 1\n",
    "x2 = x1 + delta\n",
    "\n",
    "y1 = f(x1)\n",
    "y2 = f(x2)\n",
    "\n",
    "slope_at_point = (y2-y1)/(x2-x1)\n",
    "print(\"Instantaneous Slope: \", slope_at_point)\n"
   ]
  },
  {
   "cell_type": "code",
   "execution_count": 34,
   "metadata": {},
   "outputs": [
    {
     "data": {
      "image/png": "[encoded data removed]",
      "text/plain": [
       "<Figure size 432x288 with 1 Axes>"
      ]
     },
     "metadata": {
      "needs_background": "light"
     },
     "output_type": "display_data"
    }
   ],
   "source": [
    "# Let's see how different tangent lines appear on different points.\n",
    "\n",
    "import matplotlib.pyplot as plt\n",
    "import numpy as np\n",
    "\n",
    "def f(x):\n",
    "    return 2*x**2\n",
    "\n",
    "# This will increment the values in a granular fashion.\n",
    "x = np.arange(0, 5, 0.001)\n",
    "y = f(x)\n",
    "\n",
    "plt.plot(x, y)\n",
    "plt.show()\n"
   ]
  },
  {
   "cell_type": "code",
   "execution_count": 35,
   "metadata": {},
   "outputs": [
    {
     "data": {
      "image/png": "[encoded data removed]",
      "text/plain": [
       "<Figure size 432x288 with 1 Axes>"
      ]
     },
     "metadata": {
      "needs_background": "light"
     },
     "output_type": "display_data"
    },
    {
     "name": "stdout",
     "output_type": "stream",
     "text": [
      "First points - (x1, y1) : (2, 8)\n",
      "Second points - (x2, y2) : (2.0001, 8.000800020000002)\n"
     ]
    }
   ],
   "source": [
    "# Full code : to view the tangential line at one point\n",
    "\n",
    "import matplotlib.pyplot as plt\n",
    "import numpy as np\n",
    "\n",
    "def f(x):\n",
    "    return 2*x**2\n",
    "\n",
    "x = np.arange(0, 5, 0.001)\n",
    "y = f(x)\n",
    "\n",
    "plt.plot(x, y)\n",
    "\n",
    "# Two, \"very close\" points\n",
    "delta_value = 0.0001\n",
    "x1 = 2\n",
    "x2 = x1 + delta_value\n",
    "\n",
    "y1 = f(x1)\n",
    "y2 = f(x2)\n",
    "\n",
    "# General Linear equation: y = mx + c\n",
    "# Here we know y, m and x but c (y-intercept) is unknown.\n",
    "# Rearranging variables, we get, c = y - mx\n",
    "# Therefore,\n",
    "\n",
    "# slope between two very close points,\n",
    "slope = (y2-y1) / (x2-x1)\n",
    "c = y2 - slope * x2\n",
    "\n",
    "# y = mx + c\n",
    "def tangent_line(x):\n",
    "    return slope*x + c\n",
    "\n",
    "plot_tangent_x = [x1-0.9, x1, x1+0.9]\n",
    "plot_tangent_y = [tangent_line(i) for i in plot_tangent_x]\n",
    "plt.plot(plot_tangent_x, plot_tangent_y)\n",
    "plt.show()\n",
    "\n",
    "print(f\"First points - (x1, y1) : ({x1}, {y1})\")\n",
    "print(f\"Second points - (x2, y2) : ({x2}, {y2})\")\n"
   ]
  },
  {
   "cell_type": "markdown",
   "metadata": {},
   "source": [
    "The orange line above defines the \"slope\" of the curve at point x=2.\n",
    "<br/>\n",
    "Now why is this imporant? \n",
    "<br/>\n",
    "\"We care about the slope of the tangent line because it informs us \n",
    "<br/>\n",
    "about the impact that x has on this function at a particular point, \n",
    "<br/>\n",
    "referred to as the instantaneous rate of change.\"\n",
    "\n",
    "We will use this concept to determine the effect\n",
    "<br/>\n",
    "of a specific weight or bias on the overall loss function given a sample."
   ]
  },
  {
   "cell_type": "code",
   "execution_count": 36,
   "metadata": {},
   "outputs": [
    {
     "name": "stdout",
     "output_type": "stream",
     "text": [
      "(x1, y1): (0, 0)\n",
      "(x2, y2): (0.0001, 2e-08)\n",
      "\n",
      "(x1, y1): (1, 2)\n",
      "(x2, y2): (1.0001, 2.00040002)\n",
      "\n",
      "(x1, y1): (2, 8)\n",
      "(x2, y2): (2.0001, 8.000800020000002)\n",
      "\n",
      "(x1, y1): (3, 18)\n",
      "(x2, y2): (3.0001, 18.001200020000002)\n",
      "\n",
      "(x1, y1): (4, 32)\n",
      "(x2, y2): (4.0001, 32.00160002)\n",
      "\n"
     ]
    },
    {
     "data": {
      "image/png": "[encoded data removed]",
      "text/plain": [
       "<Figure size 432x288 with 1 Axes>"
      ]
     },
     "metadata": {
      "needs_background": "light"
     },
     "output_type": "display_data"
    }
   ],
   "source": [
    "# Code to visualize tangent lines at different points of curve.\n",
    "\n",
    "import matplotlib.pyplot as plt\n",
    "import numpy as np\n",
    "\n",
    "\n",
    "def f(x):\n",
    "    return 2*x**2\n",
    "\n",
    "\n",
    "x = np.array(np.arange(0, 5, 0.0001))\n",
    "y = f(x)\n",
    "\n",
    "plt.plot(x, y)\n",
    "\n",
    "colors = [\"k\", \"g\", \"r\", \"b\", \"c\"]\n",
    "\n",
    "# y = mx + c\n",
    "\n",
    "\n",
    "def approx_tangent_line(x, slope, c):\n",
    "    return (slope*x) + c\n",
    "\n",
    "\n",
    "for i in range(5):\n",
    "    delta = 0.0001\n",
    "    x1 = i\n",
    "    x2 = x1 + delta\n",
    "\n",
    "    y1 = f(x1)\n",
    "    y2 = f(x2)\n",
    "\n",
    "    print(f\"(x1, y1): ({x1}, {y1})\")\n",
    "    print(f\"(x2, y2): ({x2}, {y2})\\n\")\n",
    "\n",
    "    # slope\n",
    "    m = (y2-y1)/(x2-x1)\n",
    "    # y-intercept => c = y - mx\n",
    "    c = y2-(m*x2)\n",
    "\n",
    "    plot_tangent_x = [x1-0.9, x1, x1+0.9]\n",
    "    plot_tangent_y = [approx_tangent_line(i, m, c) for i in plot_tangent_x]\n",
    "\n",
    "    plt.scatter(x1, y1, c=colors[i])\n",
    "    plt.plot(plot_tangent_x, plot_tangent_y, c=colors[i])\n",
    "\n",
    "plt.show()\n"
   ]
  },
  {
   "cell_type": "markdown",
   "metadata": {},
   "source": [
    "### Analytical Derivative"
   ]
  },
  {
   "cell_type": "code",
   "execution_count": 37,
   "metadata": {},
   "outputs": [],
   "source": [
    "# To compute the derivative of functions using the analytical method, we can split them into simple,\n",
    "# elemental functions, finding the derivatives of those and then applying the chain rule"
   ]
  },
  {
   "cell_type": "code",
   "execution_count": null,
   "metadata": {},
   "outputs": [],
   "source": []
  },
  {
   "cell_type": "code",
   "execution_count": null,
   "metadata": {},
   "outputs": [],
   "source": []
  },
  {
   "cell_type": "code",
   "execution_count": null,
   "metadata": {},
   "outputs": [],
   "source": []
  }
 ],
 "metadata": {
  "interpreter": {
   "hash": "314aa30014bb153b034f19e69298040a25a5fd6da26c1ba4e72688d64b409217"
  },
  "kernelspec": {
   "display_name": "Python 3.9.7 64-bit ('tf_gpu': conda)",
   "language": "python",
   "name": "python3"
  },
  "language_info": {
   "codemirror_mode": {
    "name": "ipython",
    "version": 3
   },
   "file_extension": ".py",
   "mimetype": "text/x-python",
   "name": "python",
   "nbconvert_exporter": "python",
   "pygments_lexer": "ipython3",
   "version": "3.9.7"
  },
  "orig_nbformat": 4
 },
 "nbformat": 4,
 "nbformat_minor": 2
}
