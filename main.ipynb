{
 "cells": [
  {
   "cell_type": "markdown",
   "metadata": {},
   "source": [
    "# Chapter : 8"
   ]
  },
  {
   "cell_type": "markdown",
   "metadata": {},
   "source": [
    "#### Backpropagation\n",
    "\n",
    "<img src=\"backPropFormula.png\"/>"
   ]
  },
  {
   "cell_type": "code",
   "execution_count": 7,
   "metadata": {},
   "outputs": [
    {
     "name": "stdout",
     "output_type": "stream",
     "text": [
      "1.0\n",
      "1 1 1 1.0\n",
      "-3.0 -1.0 2.0 1.0 -2.0 3.0\n"
     ]
    }
   ],
   "source": [
    "# We will write code for backpropagation method\n",
    "# Recall using CHAIN RULE, we find derivative of a function w.r.t the function inside it.\n",
    "# We store this result, called gradient, and use it to multiply to the derivative to previous\n",
    "# layer's output.\n",
    "\n",
    "# For simplicity we are going to consider that the gradient we recieved from the\n",
    "# next layer is 1, since multiplying with one wont change anything\n",
    "\n",
    "# Let's code now\n",
    "\n",
    "# FORWARD PASS\n",
    "x = [1.0, -2.0, 3.0]    # inputs\n",
    "w = [-3.0, -1.0, 2.0]   # weights\n",
    "b = 1.0                 # bias\n",
    "\n",
    "xw0 = x[0] * w[0]\n",
    "xw1 = x[1] * w[1]\n",
    "xw2 = x[2] * w[2]\n",
    "\n",
    "# output of dense layer\n",
    "sum = xw0 + xw1 + xw2 + b\n",
    "\n",
    "# ReLU function\n",
    "y = max(sum, 0)\n",
    "\n",
    "# BACKWARD PASS\n",
    "\n",
    "# The derivative from previous layer\n",
    "dvalue = 1.0\n",
    "\n",
    "# One important thing to note here is that the derivative of ReLU function is\n",
    "# 1 if the input is greater than 1 else 0\n",
    "drelu_dsum = dvalue * (1.0 if sum > 0 else 0.0)\n",
    "print(drelu_dsum)\n",
    "\n",
    "# Another important thing to note is that the partial derivative\n",
    "# of a sum is always 1 no matter the inputs\n",
    "\n",
    "# for x0w0 pair\n",
    "dsum_dmulxw0 = 1\n",
    "drelu_dmulxw0 = drelu_dsum * dsum_dmulxw0\n",
    "\n",
    "# for x1w1 pair\n",
    "dsum_dmulxw1 = 1\n",
    "drelu_dmulxw1 = drelu_dsum * dsum_dmulxw1\n",
    "\n",
    "# for x2w2 pair\n",
    "dsum_dmulxw2 = 1\n",
    "drelu_dmulxw2 = drelu_dsum * dsum_dmulxw2\n",
    "\n",
    "# for b\n",
    "dsum_db = 1\n",
    "drelu_db = drelu_dsum * dsum_db\n",
    "\n",
    "print(dsum_dmulxw0, dsum_dmulxw1, dsum_dmulxw2, drelu_db)\n",
    "\n",
    "# Continuing with the backpropagation\n",
    "# One more important thing to note here is that the partial derivative of\n",
    "# a product is the value with which it is being multiplied.\n",
    "# For eg.\n",
    "# d(x*y)/d(x) = y\n",
    "# d(x*y)/d(y) = x\n",
    "# Therefore, partial derivative of the first weighted-input w.r.t the input equals the weight\n",
    "\n",
    "# with respect to x values\n",
    "dmulxw0_dx0 = w[0]\n",
    "drelu_dx0 = drelu_dmulxw0 * dmulxw0_dx0\n",
    "\n",
    "dmulxw1_dx1 = w[1]\n",
    "drelu_dx1 = drelu_dmulxw1 * dmulxw1_dx1\n",
    "\n",
    "dmulxw2_dx2 = w[2]\n",
    "drelu_dx2 = drelu_dmulxw2 * dmulxw2_dx2\n",
    "\n",
    "# with respect to w values (weights)\n",
    "dmulxw0_dw0 = x[0]\n",
    "drelu_dw0 = drelu_dmulxw0 * dmulxw0_dw0\n",
    "\n",
    "dmulxw1_dw1 = x[1]\n",
    "drelu_dw1 = drelu_dmulxw1 * dmulxw1_dw1\n",
    "\n",
    "dmulxw2_dw2 = x[2]\n",
    "drelu_dw2 = drelu_dmulxw2 * dmulxw2_dw2\n",
    "print(drelu_dx0, drelu_dx1, drelu_dx2, drelu_dw0, drelu_dw1, drelu_dw2)\n"
   ]
  },
  {
   "cell_type": "markdown",
   "metadata": {},
   "source": [
    "<img src=\"./drelu_dz_final1.png\" height=\"300px\"/>"
   ]
  },
  {
   "cell_type": "code",
   "execution_count": null,
   "metadata": {},
   "outputs": [],
   "source": [
    "# The above completes out code for backpropagation for a single neuron.\n",
    "# We can optimize the code a bit\n",
    "\n"
   ]
  },
  {
   "cell_type": "code",
   "execution_count": null,
   "metadata": {},
   "outputs": [],
   "source": []
  },
  {
   "cell_type": "code",
   "execution_count": null,
   "metadata": {},
   "outputs": [],
   "source": []
  }
 ],
 "metadata": {
  "interpreter": {
   "hash": "314aa30014bb153b034f19e69298040a25a5fd6da26c1ba4e72688d64b409217"
  },
  "kernelspec": {
   "display_name": "Python 3.9.7 64-bit ('tf_gpu': conda)",
   "language": "python",
   "name": "python3"
  },
  "language_info": {
   "codemirror_mode": {
    "name": "ipython",
    "version": 3
   },
   "file_extension": ".py",
   "mimetype": "text/x-python",
   "name": "python",
   "nbconvert_exporter": "python",
   "pygments_lexer": "ipython3",
   "version": "3.9.7"
  },
  "orig_nbformat": 4
 },
 "nbformat": 4,
 "nbformat_minor": 2
}
